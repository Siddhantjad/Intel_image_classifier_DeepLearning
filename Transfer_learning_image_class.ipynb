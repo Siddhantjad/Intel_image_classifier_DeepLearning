{
 "cells": [
  {
   "cell_type": "code",
   "execution_count": 1,
   "id": "f378c29c",
   "metadata": {},
   "outputs": [],
   "source": [
    "import os\n",
    "import glob\n",
    "import json\n",
    "import numpy as np\n",
    "import pandas as pd\n",
    "import matplotlib.pyplot as plt\n",
    "import tensorflow as tf\n",
    "import cv2\n",
    "from tensorflow.keras.preprocessing.image import ImageDataGenerator\n",
    "from tensorflow.keras import  applications\n",
    "from tensorflow.keras.models import Sequential\n",
    "from tensorflow.keras.layers import Conv2D, MaxPool2D,GlobalAveragePooling2D, Flatten, Dense, Dropout, BatchNormalization\n",
    "from tensorflow.keras.callbacks import ModelCheckpoint, EarlyStopping, ReduceLROnPlateau\n",
    "from tensorflow.keras.optimizers import Adam\n",
    "\n",
    "import warnings\n",
    "warnings.filterwarnings('ignore')\n",
    "import random\n",
    "import logging\n",
    "logger = tf.get_logger()\n",
    "logger.setLevel(logging.ERROR)\n",
    "import glob\n",
    "import shutil\n",
    "import os\n",
    "import itertools\n",
    "from sklearn.metrics import confusion_matrix ,classification_report\n",
    "from keras.layers import Input,Flatten\n",
    "from keras.models import Model\n",
    "from random import randint"
   ]
  },
  {
   "cell_type": "markdown",
   "id": "54f729eb",
   "metadata": {},
   "source": [
    "## Data Processing"
   ]
  },
  {
   "cell_type": "code",
   "execution_count": 2,
   "id": "705d61cb",
   "metadata": {},
   "outputs": [],
   "source": [
    "train_path = 'seg_train'\n",
    "\n",
    "test_path = 'seg_test'"
   ]
  },
  {
   "cell_type": "code",
   "execution_count": 3,
   "id": "850a8c78",
   "metadata": {},
   "outputs": [
    {
     "name": "stdout",
     "output_type": "stream",
     "text": [
      "Found 14034 images belonging to 6 classes.\n"
     ]
    }
   ],
   "source": [
    "img_size = (150,150)\n",
    "\n",
    "train_images_p = ImageDataGenerator(\n",
    "    preprocessing_function=\n",
    "    tf.keras.applications.vgg16.preprocess_input).flow_from_directory(\n",
    "    directory=train_path,target_size= (150,150),batch_size=10)"
   ]
  },
  {
   "cell_type": "code",
   "execution_count": 4,
   "id": "46fc7b39",
   "metadata": {},
   "outputs": [
    {
     "name": "stdout",
     "output_type": "stream",
     "text": [
      "Found 3000 images belonging to 6 classes.\n"
     ]
    }
   ],
   "source": [
    "test_images_p=ImageDataGenerator(\n",
    "    preprocessing_function=\n",
    "    tf.keras.applications.vgg16.preprocess_input).flow_from_directory(\n",
    "    directory=test_path,\n",
    "    target_size= (150,150),batch_size=10,shuffle=False)"
   ]
  },
  {
   "cell_type": "markdown",
   "id": "e7b47594",
   "metadata": {},
   "source": [
    "## VGG16 model Training"
   ]
  },
  {
   "cell_type": "code",
   "execution_count": 5,
   "id": "05572479",
   "metadata": {},
   "outputs": [],
   "source": [
    "from tensorflow.keras.applications import VGG16"
   ]
  },
  {
   "cell_type": "code",
   "execution_count": 6,
   "id": "adf5630a",
   "metadata": {},
   "outputs": [
    {
     "name": "stdout",
     "output_type": "stream",
     "text": [
      "last layer of vgg : output shape:  (None, 4, 4, 512)\n"
     ]
    }
   ],
   "source": [
    "from tensorflow.keras.applications import VGG16\n",
    "\n",
    "pretrained_model=VGG16(input_shape = (150, 150, 3), \n",
    "                        include_top = False, \n",
    "                        weights = 'imagenet')\n",
    "\n",
    "for layer in pretrained_model.layers:\n",
    "     layer.trainable = False\n",
    "\n",
    "\n",
    "last_layer = pretrained_model.get_layer('block5_pool')\n",
    "print('last layer of vgg : output shape: ', last_layer.output_shape)\n",
    "last_output= last_layer.output\n",
    "\n",
    "x = Flatten()(last_output)\n",
    "x = Dense(64, activation='relu')(x)\n",
    "x = Dropout(0.2)(x)                  \n",
    "x = Dense(6, activation='softmax')(x)           \n",
    "\n",
    "model_vgg = Model(pretrained_model.input, x) "
   ]
  },
  {
   "cell_type": "code",
   "execution_count": 7,
   "id": "a42084f7",
   "metadata": {},
   "outputs": [
    {
     "name": "stdout",
     "output_type": "stream",
     "text": [
      "Model: \"model\"\n",
      "_________________________________________________________________\n",
      " Layer (type)                Output Shape              Param #   \n",
      "=================================================================\n",
      " input_1 (InputLayer)        [(None, 150, 150, 3)]     0         \n",
      "                                                                 \n",
      " block1_conv1 (Conv2D)       (None, 150, 150, 64)      1792      \n",
      "                                                                 \n",
      " block1_conv2 (Conv2D)       (None, 150, 150, 64)      36928     \n",
      "                                                                 \n",
      " block1_pool (MaxPooling2D)  (None, 75, 75, 64)        0         \n",
      "                                                                 \n",
      " block2_conv1 (Conv2D)       (None, 75, 75, 128)       73856     \n",
      "                                                                 \n",
      " block2_conv2 (Conv2D)       (None, 75, 75, 128)       147584    \n",
      "                                                                 \n",
      " block2_pool (MaxPooling2D)  (None, 37, 37, 128)       0         \n",
      "                                                                 \n",
      " block3_conv1 (Conv2D)       (None, 37, 37, 256)       295168    \n",
      "                                                                 \n",
      " block3_conv2 (Conv2D)       (None, 37, 37, 256)       590080    \n",
      "                                                                 \n",
      " block3_conv3 (Conv2D)       (None, 37, 37, 256)       590080    \n",
      "                                                                 \n",
      " block3_pool (MaxPooling2D)  (None, 18, 18, 256)       0         \n",
      "                                                                 \n",
      " block4_conv1 (Conv2D)       (None, 18, 18, 512)       1180160   \n",
      "                                                                 \n",
      " block4_conv2 (Conv2D)       (None, 18, 18, 512)       2359808   \n",
      "                                                                 \n",
      " block4_conv3 (Conv2D)       (None, 18, 18, 512)       2359808   \n",
      "                                                                 \n",
      " block4_pool (MaxPooling2D)  (None, 9, 9, 512)         0         \n",
      "                                                                 \n",
      " block5_conv1 (Conv2D)       (None, 9, 9, 512)         2359808   \n",
      "                                                                 \n",
      " block5_conv2 (Conv2D)       (None, 9, 9, 512)         2359808   \n",
      "                                                                 \n",
      " block5_conv3 (Conv2D)       (None, 9, 9, 512)         2359808   \n",
      "                                                                 \n",
      " block5_pool (MaxPooling2D)  (None, 4, 4, 512)         0         \n",
      "                                                                 \n",
      " flatten (Flatten)           (None, 8192)              0         \n",
      "                                                                 \n",
      " dense (Dense)               (None, 64)                524352    \n",
      "                                                                 \n",
      " dropout (Dropout)           (None, 64)                0         \n",
      "                                                                 \n",
      " dense_1 (Dense)             (None, 6)                 390       \n",
      "                                                                 \n",
      "=================================================================\n",
      "Total params: 15,239,430\n",
      "Trainable params: 524,742\n",
      "Non-trainable params: 14,714,688\n",
      "_________________________________________________________________\n"
     ]
    }
   ],
   "source": [
    "model_vgg.summary()"
   ]
  },
  {
   "cell_type": "code",
   "execution_count": 8,
   "id": "b29bfb1a",
   "metadata": {},
   "outputs": [],
   "source": [
    "model_vgg.compile(optimizer=Adam(learning_rate=0.0001),\n",
    "                 loss='categorical_crossentropy',\n",
    "                  metrics=['accuracy'])"
   ]
  },
  {
   "cell_type": "code",
   "execution_count": 9,
   "id": "ef8d43e6",
   "metadata": {
    "scrolled": true
   },
   "outputs": [
    {
     "name": "stdout",
     "output_type": "stream",
     "text": [
      "Epoch 1/10\n",
      "300/300 [==============================] - 74s 241ms/step - loss: 2.5397 - accuracy: 0.6837 - val_loss: 0.3238 - val_accuracy: 0.9140\n",
      "Epoch 2/10\n",
      "300/300 [==============================] - 75s 251ms/step - loss: 0.4903 - accuracy: 0.8737 - val_loss: 0.1146 - val_accuracy: 0.9580\n",
      "Epoch 3/10\n",
      "300/300 [==============================] - 76s 252ms/step - loss: 0.2055 - accuracy: 0.9310 - val_loss: 0.0783 - val_accuracy: 0.9703\n",
      "Epoch 4/10\n",
      "300/300 [==============================] - 75s 252ms/step - loss: 0.1152 - accuracy: 0.9603 - val_loss: 0.0341 - val_accuracy: 0.9900\n",
      "Epoch 5/10\n",
      "300/300 [==============================] - 76s 253ms/step - loss: 0.0960 - accuracy: 0.9670 - val_loss: 0.0188 - val_accuracy: 0.9967\n",
      "Epoch 6/10\n",
      "300/300 [==============================] - 76s 252ms/step - loss: 0.0640 - accuracy: 0.9753 - val_loss: 0.0144 - val_accuracy: 0.9967\n",
      "Epoch 7/10\n",
      "300/300 [==============================] - 75s 251ms/step - loss: 0.0510 - accuracy: 0.9823 - val_loss: 0.0091 - val_accuracy: 0.9993\n",
      "Epoch 8/10\n",
      "300/300 [==============================] - 75s 251ms/step - loss: 0.0593 - accuracy: 0.9800 - val_loss: 0.0079 - val_accuracy: 0.9997\n",
      "Epoch 9/10\n",
      "300/300 [==============================] - 75s 252ms/step - loss: 0.0513 - accuracy: 0.9830 - val_loss: 0.0061 - val_accuracy: 0.9997\n",
      "Epoch 10/10\n",
      "300/300 [==============================] - 75s 251ms/step - loss: 0.0515 - accuracy: 0.9840 - val_loss: 0.0048 - val_accuracy: 0.9997\n"
     ]
    }
   ],
   "source": [
    "result = model_vgg.fit_generator(test_images_p, epochs=10, validation_data=test_images_p)"
   ]
  },
  {
   "cell_type": "code",
   "execution_count": 11,
   "id": "8013d5d8",
   "metadata": {},
   "outputs": [
    {
     "data": {
      "image/png": "[encoded data removed]",
      "text/plain": [
       "<Figure size 864x360 with 1 Axes>"
      ]
     },
     "metadata": {
      "needs_background": "light"
     },
     "output_type": "display_data"
    }
   ],
   "source": [
    "#Plot the training history\n",
    "plt.figure(figsize=(12, 5))\n",
    "plt.plot(result.history['accuracy'], color='r')\n",
    "plt.plot(result.history['val_accuracy'], color='b')\n",
    "plt.title('Model Accuracy')\n",
    "plt.ylabel('Accuracy')\n",
    "plt.xlabel('Epochs')\n",
    "plt.legend(['train', 'val'])\n",
    "plt.show()"
   ]
  },
  {
   "cell_type": "markdown",
   "id": "f5f78840",
   "metadata": {},
   "source": [
    "### AS expected the transfer learning working very good on the data with no overfitting"
   ]
  },
  {
   "cell_type": "code",
   "execution_count": 13,
   "id": "b29aa7de",
   "metadata": {},
   "outputs": [
    {
     "data": {
      "image/png": "[encoded data removed]",
      "text/plain": [
       "<Figure size 864x360 with 1 Axes>"
      ]
     },
     "metadata": {
      "needs_background": "light"
     },
     "output_type": "display_data"
    }
   ],
   "source": [
    "#Plot the loss history\n",
    "plt.figure(figsize=(12, 5))\n",
    "plt.plot(result.history['loss'], color='r')\n",
    "plt.plot(result.history['val_loss'], color='b')\n",
    "plt.title('Model Loss')\n",
    "plt.ylabel('Loss')\n",
    "plt.xlabel('Epochs')\n",
    "plt.legend(['train', 'val'])\n",
    "plt.show()"
   ]
  },
  {
   "cell_type": "code",
   "execution_count": 33,
   "id": "ee40ca20",
   "metadata": {},
   "outputs": [
    {
     "data": {
      "text/plain": [
       "array([[1.0000000e+00, 1.1993656e-16, 2.5212320e-22, 5.8839121e-20,\n",
       "        9.0798134e-17, 4.8767860e-18],\n",
       "       [9.9999416e-01, 5.6035419e-06, 1.2978886e-10, 4.4294039e-13,\n",
       "        4.1984311e-12, 1.9186412e-07],\n",
       "       [1.0000000e+00, 6.4287071e-18, 3.5078512e-25, 5.2779286e-27,\n",
       "        5.4771167e-26, 7.6267048e-12],\n",
       "       ...,\n",
       "       [1.3468750e-05, 2.2907935e-04, 7.2911368e-03, 5.5284370e-03,\n",
       "        7.7259188e-05, 9.8686057e-01],\n",
       "       [3.1100460e-06, 3.0353884e-05, 4.5099036e-08, 4.0372248e-09,\n",
       "        1.1641236e-08, 9.9996650e-01],\n",
       "       [1.8406038e-12, 1.3641761e-15, 2.5428114e-21, 2.2342976e-18,\n",
       "        2.2089696e-15, 1.0000000e+00]], dtype=float32)"
      ]
     },
     "execution_count": 33,
     "metadata": {},
     "output_type": "execute_result"
    }
   ],
   "source": [
    "predictions = model_vgg.predict(test_images_p)\n",
    "predictions"
   ]
  },
  {
   "cell_type": "code",
   "execution_count": 34,
   "id": "eddf2364",
   "metadata": {},
   "outputs": [],
   "source": [
    "predictions = np.argmax(predictions, axis=1)"
   ]
  },
  {
   "cell_type": "code",
   "execution_count": 36,
   "id": "bd4ab073",
   "metadata": {},
   "outputs": [
    {
     "data": {
      "text/plain": [
       "array([0, 0, 0, ..., 5, 5, 5], dtype=int64)"
      ]
     },
     "execution_count": 36,
     "metadata": {},
     "output_type": "execute_result"
    }
   ],
   "source": [
    "predictions"
   ]
  },
  {
   "cell_type": "code",
   "execution_count": 24,
   "id": "5bbafc01",
   "metadata": {},
   "outputs": [
    {
     "name": "stdout",
     "output_type": "stream",
     "text": [
      "300/300 [==============================] - 35s 116ms/step - loss: 0.0048 - accuracy: 0.9997\n"
     ]
    }
   ],
   "source": [
    "test_loss, test_accuracy = model_vgg.evaluate(test_images_p, batch_size=32)"
   ]
  },
  {
   "cell_type": "code",
   "execution_count": 20,
   "id": "549c272f",
   "metadata": {},
   "outputs": [
    {
     "name": "stdout",
     "output_type": "stream",
     "text": [
      "Test Loss:     0.004848218057304621\n",
      "Test Accuracy: 0.999666690826416\n"
     ]
    }
   ],
   "source": [
    "print(f\"Test Loss:     {test_loss}\")\n",
    "print(f\"Test Accuracy: {test_accuracy}\")"
   ]
  },
  {
   "cell_type": "code",
   "execution_count": 45,
   "id": "49949029",
   "metadata": {},
   "outputs": [],
   "source": [
    "from tensorflow.keras.preprocessing import image\n",
    "from tensorflow.keras.applications.resnet50 import preprocess_input"
   ]
  },
  {
   "cell_type": "code",
   "execution_count": 71,
   "id": "1cd67410",
   "metadata": {},
   "outputs": [],
   "source": [
    "def classify_image(picture):\n",
    "    img = image.load_img(f'{picture}', target_size=(150,150))\n",
    "    x = image.img_to_array(img)\n",
    "    x = x/255\n",
    "    x = np.expand_dims(x, axis=0)\n",
    "    img_data = preprocess_input(x)\n",
    "    return np.argmax(model_vgg.predict(img_data), axis=1)\n",
    "    "
   ]
  },
  {
   "cell_type": "code",
   "execution_count": 76,
   "id": "9b719256",
   "metadata": {},
   "outputs": [
    {
     "data": {
      "text/plain": [
       "array([4], dtype=int64)"
      ]
     },
     "execution_count": 76,
     "metadata": {},
     "output_type": "execute_result"
    }
   ],
   "source": [
    "classify_image('seg_pred/84.jpg')"
   ]
  },
  {
   "cell_type": "code",
   "execution_count": 77,
   "id": "8fbd2d8c",
   "metadata": {},
   "outputs": [],
   "source": [
    "img = image.load_img('seg_pred/84.jpg', target_size=(150,150))"
   ]
  },
  {
   "cell_type": "code",
   "execution_count": 78,
   "id": "478516cc",
   "metadata": {
    "scrolled": true
   },
   "outputs": [
    {
     "data": {
      "text/plain": [
       "array([[[107., 150., 192.],\n",
       "        [107., 150., 192.],\n",
       "        [107., 150., 192.],\n",
       "        ...,\n",
       "        [ 96., 135., 174.],\n",
       "        [ 95., 135., 171.],\n",
       "        [ 94., 134., 170.]],\n",
       "\n",
       "       [[107., 150., 193.],\n",
       "        [106., 151., 193.],\n",
       "        [107., 152., 194.],\n",
       "        ...,\n",
       "        [ 97., 135., 172.],\n",
       "        [ 98., 136., 173.],\n",
       "        [ 98., 138., 174.]],\n",
       "\n",
       "       [[105., 152., 196.],\n",
       "        [105., 152., 196.],\n",
       "        [106., 153., 197.],\n",
       "        ...,\n",
       "        [ 97., 135., 172.],\n",
       "        [100., 138., 175.],\n",
       "        [102., 140., 176.]],\n",
       "\n",
       "       ...,\n",
       "\n",
       "       [[ 62.,  67.,  61.],\n",
       "        [ 66.,  71.,  64.],\n",
       "        [ 71.,  74.,  67.],\n",
       "        ...,\n",
       "        [ 42.,  23.,   6.],\n",
       "        [ 45.,  24.,   7.],\n",
       "        [ 44.,  23.,   6.]],\n",
       "\n",
       "       [[ 66.,  73.,  66.],\n",
       "        [ 68.,  73.,  67.],\n",
       "        [ 71.,  74.,  67.],\n",
       "        ...,\n",
       "        [ 44.,  22.,   8.],\n",
       "        [ 44.,  22.,   8.],\n",
       "        [ 44.,  22.,   8.]],\n",
       "\n",
       "       [[ 54.,  64.,  56.],\n",
       "        [ 57.,  64.,  57.],\n",
       "        [ 55.,  60.,  53.],\n",
       "        ...,\n",
       "        [ 39.,  20.,   6.],\n",
       "        [ 39.,  20.,   6.],\n",
       "        [ 41.,  22.,   8.]]], dtype=float32)"
      ]
     },
     "execution_count": 78,
     "metadata": {},
     "output_type": "execute_result"
    }
   ],
   "source": [
    "x = image.img_to_array(img)\n",
    "x"
   ]
  },
  {
   "cell_type": "code",
   "execution_count": 79,
   "id": "57869ee7",
   "metadata": {},
   "outputs": [
    {
     "data": {
      "text/plain": [
       "(150, 150, 3)"
      ]
     },
     "execution_count": 79,
     "metadata": {},
     "output_type": "execute_result"
    }
   ],
   "source": [
    "x.shape"
   ]
  },
  {
   "cell_type": "code",
   "execution_count": 80,
   "id": "6593a5e3",
   "metadata": {},
   "outputs": [],
   "source": [
    "x = x/255"
   ]
  },
  {
   "cell_type": "code",
   "execution_count": 81,
   "id": "de48b406",
   "metadata": {},
   "outputs": [
    {
     "data": {
      "text/plain": [
       "(1, 150, 150, 3)"
      ]
     },
     "execution_count": 81,
     "metadata": {},
     "output_type": "execute_result"
    }
   ],
   "source": [
    "x = np.expand_dims(x, axis=0)\n",
    "img_data = preprocess_input(x)\n",
    "img_data.shape"
   ]
  },
  {
   "cell_type": "code",
   "execution_count": 82,
   "id": "a7684511",
   "metadata": {},
   "outputs": [],
   "source": [
    "a = np.argmax(model_vgg.predict(img_data), axis=1)"
   ]
  },
  {
   "cell_type": "code",
   "execution_count": 83,
   "id": "ee6303d4",
   "metadata": {},
   "outputs": [
    {
     "data": {
      "text/plain": [
       "array([4], dtype=int64)"
      ]
     },
     "execution_count": 83,
     "metadata": {},
     "output_type": "execute_result"
    }
   ],
   "source": [
    "a"
   ]
  },
  {
   "cell_type": "code",
   "execution_count": null,
   "id": "1746f104",
   "metadata": {},
   "outputs": [],
   "source": []
  },
  {
   "cell_type": "markdown",
   "id": "e0b3b288",
   "metadata": {},
   "source": [
    "#### save model for deployemnt"
   ]
  },
  {
   "cell_type": "code",
   "execution_count": 22,
   "id": "ba7fd538",
   "metadata": {},
   "outputs": [],
   "source": [
    "from tensorflow.keras.models import load_model\n",
    "\n",
    "model_vgg.save('intel_image.h5')"
   ]
  },
  {
   "cell_type": "markdown",
   "id": "6771d2a0",
   "metadata": {},
   "source": [
    "## Conclusion - by using transfer learning VGG16 we model achieved accuracy of 99% on test data. which is far more than the CNN model created earlier."
   ]
  },
  {
   "cell_type": "code",
   "execution_count": null,
   "id": "0686442f",
   "metadata": {},
   "outputs": [],
   "source": []
  }
 ],
 "metadata": {
  "kernelspec": {
   "display_name": "Python 3 (ipykernel)",
   "language": "python",
   "name": "python3"
  },
  "language_info": {
   "codemirror_mode": {
    "name": "ipython",
    "version": 3
   },
   "file_extension": ".py",
   "mimetype": "text/x-python",
   "name": "python",
   "nbconvert_exporter": "python",
   "pygments_lexer": "ipython3",
   "version": "3.9.7"
  }
 },
 "nbformat": 4,
 "nbformat_minor": 5
}
